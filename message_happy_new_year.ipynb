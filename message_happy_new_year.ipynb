{
 "cells": [
  {
   "cell_type": "code",
   "execution_count": null,
   "metadata": {},
   "outputs": [],
   "source": []
  },
  {
   "cell_type": "code",
   "execution_count": 37,
   "metadata": {},
   "outputs": [
    {
     "name": "stdout",
     "output_type": "stream",
     "text": [
      "\u001b[36m                    🎆        🎊       🎇      🎆      🎊      🎇                     \n",
      "                             🎉    🌟    🎊    🎉    🌟    🎊                         \n",
      "\u001b[33m                __  __                           _   __                         \n",
      "\u001b[33m               / / / /___ _____  ____  __  __   / | / /__ _      __             \n",
      "\u001b[33m              / /_/ / __ `/ __ \\/ __ \\/ / / /  /  |/ / _ \\ | /| / /             \n",
      "\u001b[33m             / __  / /_/ / /_/ / /_/ / /_/ /  / /|  /  __/ |/ |/ /              \n",
      "\u001b[33m            /_/ /_/\\__,_/ .___/ .___/\\__, /  /_/ |_/\\___/|__/|__/               \n",
      "\u001b[33m                       /_/   /_/    /____/                                      \n",
      "\u001b[33m               __  __                   ___   ____ ___   ________               \n",
      "\u001b[33m               \\ \\/ /__  ____ ______   |__ \\ / __ \\__ \\ / ____/ /               \n",
      "\u001b[33m                \\  / _ \\/ __ `/ ___/   __/ // / / /_/ //___ \\/ /                \n",
      "\u001b[33m                / /  __/ /_/ / /      / __// /_/ / __/____/ /_/                 \n",
      "\u001b[33m               /_/\\___/\\__,_/_/      /____/\\____/____/_____(_)                  \n",
      "\u001b[33m                                                                                \n",
      "                             🎉    🌟    🎊    🎉    🌟    🎊                         \n",
      "\u001b[36m                          🎉    🌟    🎊     🎉    🌟    🎊                           \u001b[0m\n"
     ]
    }
   ],
   "source": [
    "from colorama import Fore\n",
    "import pyfiglet\n",
    "import shutil\n",
    "import pyttsx3\n",
    "\n",
    "engine=pyttsx3.init()\n",
    "\n",
    "engine.say(\n",
    "    \"happy new year 2025!\"\n",
    ")\n",
    "\n",
    "top_decoration = \"🎆        🎊       🎇      🎆      🎊      🎇\"\n",
    "bottom_decoration = \"🎉    🌟    🎊     🎉    🌟    🎊\"\n",
    "\n",
    "def center_text(text, width=80):\n",
    "    terminal_width = shutil.get_terminal_size((width, 0)).columns\n",
    "    return text.center(terminal_width)\n",
    "font=pyfiglet.figlet_format(\"Happy New Year 2025!\", font=\"slant\").splitlines()\n",
    "\n",
    "\n",
    "print(Fore.CYAN+center_text(top_decoration))\n",
    "\n",
    "print(center_text(\"     🎉    🌟    🎊    🎉    🌟    🎊\"))\n",
    "for line in font:\n",
    "    print(Fore.YELLOW+center_text(line))\n",
    "print(center_text(\"     🎉    🌟    🎊    🎉    🌟    🎊\"))\n",
    "\n",
    "print(Fore.CYAN+center_text(bottom_decoration)+Style.RESET_ALL)\n",
    "\n",
    "\n",
    "\n",
    "engine.runAndWait()\n",
    "\n"
   ]
  }
 ],
 "metadata": {
  "kernelspec": {
   "display_name": "Python 3",
   "language": "python",
   "name": "python3"
  },
  "language_info": {
   "codemirror_mode": {
    "name": "ipython",
    "version": 3
   },
   "file_extension": ".py",
   "mimetype": "text/x-python",
   "name": "python",
   "nbconvert_exporter": "python",
   "pygments_lexer": "ipython3",
   "version": "3.11.9"
  }
 },
 "nbformat": 4,
 "nbformat_minor": 2
}
