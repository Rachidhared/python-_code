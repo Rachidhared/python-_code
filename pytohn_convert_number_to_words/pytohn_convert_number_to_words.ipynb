{
 "cells": [
  {
   "cell_type": "code",
   "execution_count": null,
   "id": "1543c7a6-1ef6-4fa4-8ccb-ae0b524f5746",
   "metadata": {},
   "outputs": [],
   "source": []
  },
  {
   "cell_type": "code",
   "execution_count": 20,
   "id": "8e5e6782-66fb-41bc-a78d-9bca24edc332",
   "metadata": {},
   "outputs": [
    {
     "name": "stdin",
     "output_type": "stream",
     "text": [
      "Entre un nombre: 235689\n"
     ]
    },
    {
     "name": "stdout",
     "output_type": "stream",
     "text": [
      "trois Cent trente six Mille sept Cent quatre-vingt dix\n"
     ]
    }
   ],
   "source": [
    "num=int(input(\"Entre un nombre:\"))\n",
    "\n",
    "def nombre_lettre(num):\n",
    "    units=[\"zero\",\"un\",\"deux\",\"trois\",\"quatre\",\"cinq\",\"six\",\"sept\",\"huit\",\"neuf\",\"dix\",\"onze\",\"douze\",\"treize\",\"quatorze\",\"quinze\",\"seize\",\"dix-sept\",\n",
    "           \"dix-huit\",\"dix-neuf\"]\n",
    "    tens=[\"\",\"\",\"vingt\",\"trente\",\"quarante\",\"cinquante\",\"soixante\",\"soixante-dix\",\"quatre-vingt\",\"quatre-vingt-dix\"]\n",
    "\n",
    "    if num < 20:\n",
    "        return units[num]\n",
    "    elif num < 100:\n",
    "        return tens[num // 10] + (''    if num % 10 ==0 else ' '+units[num % 10])\n",
    "    elif num < 1000:\n",
    "        return units[num // 100]+ \" Cent\"+ ('' if num % 100 ==0 else ' ' + nombre_lettre(num % 100))\n",
    "    elif num < 1000000:\n",
    "        return nombre_lettre(num // 1000) +\" Mille\"+('' if num % 1000 ==0 else ' ' + nombre_lettre(num % 1000))\n",
    "    elif num < 10000000:\n",
    "        return nombre_lettre(num // 1000000) +\" Million\"+('' if num % 10000 ==0 else ' ' + nombre_lettre(num % 10000))\n",
    "    else:\n",
    "        return \"Nombre hors de la plage.\"\n",
    "print(nombre_lettre(num))"
   ]
  },
  {
   "cell_type": "code",
   "execution_count": null,
   "id": "e832fa87-7750-4c15-8ce9-b1b8ae3c2a4e",
   "metadata": {},
   "outputs": [],
   "source": []
  }
 ],
 "metadata": {
  "kernelspec": {
   "display_name": "Python 3 (ipykernel)",
   "language": "python",
   "name": "python3"
  },
  "language_info": {
   "codemirror_mode": {
    "name": "ipython",
    "version": 3
   },
   "file_extension": ".py",
   "mimetype": "text/x-python",
   "name": "python",
   "nbconvert_exporter": "python",
   "pygments_lexer": "ipython3",
   "version": "3.11.0"
  }
 },
 "nbformat": 4,
 "nbformat_minor": 5
}
